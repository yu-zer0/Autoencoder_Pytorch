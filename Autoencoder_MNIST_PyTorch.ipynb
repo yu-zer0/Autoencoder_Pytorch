{
 "cells": [
  {
   "cell_type": "markdown",
   "source": [],
   "metadata": {
    "collapsed": false,
    "pycharm": {
     "name": "#%% md\n"
    }
   }
  },
  {
   "cell_type": "markdown",
   "source": [
    "## PyTorchによるオートエンコーダーの実装"
   ],
   "metadata": {
    "collapsed": false,
    "pycharm": {
     "name": "#%% md\n"
    }
   }
  },
  {
   "cell_type": "markdown",
   "source": [
    "### MNISTデータセットのダウンロード"
   ],
   "metadata": {
    "collapsed": false,
    "pycharm": {
     "name": "#%% md\n"
    }
   }
  },
  {
   "cell_type": "code",
   "execution_count": null,
   "outputs": [],
   "source": [
    "import torchvision\n",
    "import torchvision.transforms as transforms\n",
    "from torch.utils.data import DataLoader\n",
    "\n",
    "#トランスフォームオブジェクトを生成\n",
    "transform = transforms.Compose(\n",
    "    [transforms.ToTensor(), #Tensorオブジェクトに変換\n",
    "    lambda x: x.view(-1)]) #データの形状を(28, 28)から(784,)に変換\n",
    "\n",
    "#MNISTの訓練用データ\n",
    "mnist_train = torchvision.datasets.MNIST(\n",
    "    #ノートブックと同じ「Autoencoder_PyTorch」以下の「mnist_root」に保存\n",
    "    #Autoencoder_PyTorchのパスを事前に取得しておく\n",
    "    root='/Users/長山　湧/PycharmProjects/pythonProject1/Autoencoder_PyTorch/mnist_root',\n",
    "    download=True,#ダウンロードを許可\n",
    "    train=True,#訓練データを指定\n",
    "    transform=transform #トランスフォームオブジェクト\n",
    ")\n",
    "\n",
    "# MNISTのテスト用データ\n",
    "mnist_test = torchvision.datasets.MNIST(\n",
    "    #ノートブックと同じ「Autoencoder_PyTorch」以下の「mnist_root」に保存\n",
    "    #Autoencoder_PyTorchのパスを事前に取得しておく\n",
    "    root='/Users/長山　湧/PycharmProjects/pythonProject1/Autoencoder_PyTorch/mnist_root',\n",
    "    download=True,\n",
    "    train=False,\n",
    "    transform=transform\n",
    ")\n",
    "\n",
    "#データローダーを生成\n",
    "train_dataloader = DataLoader(mnist_train,#訓練データ\n",
    "                              batch_size=124,#ミニバッチのサイズ\n",
    "                              shuffle=True)#抽出時にシャッフル\n",
    "\n",
    "test_dataloader = DataLoader(mnist_test,#テストデータ\n",
    "                             batch_size=1,#テストなので1\n",
    "                             shuffle=False)#抽出時にシャッフルしない"
   ],
   "metadata": {
    "collapsed": false,
    "pycharm": {
     "name": "#%%\n"
    }
   }
  },
  {
   "cell_type": "markdown",
   "source": [
    "### デバイスの確認"
   ],
   "metadata": {
    "collapsed": false,
    "pycharm": {
     "name": "#%% md\n"
    }
   }
  },
  {
   "cell_type": "code",
   "execution_count": null,
   "outputs": [],
   "source": [
    "import torch\n",
    "\n",
    "device = torch.device('cuda' if torch.cuda.is_available() else 'cpu')\n",
    "print(device)"
   ],
   "metadata": {
    "collapsed": false,
    "pycharm": {
     "name": "#%%\n"
    }
   }
  },
  {
   "cell_type": "markdown",
   "source": [
    "### オートエンコーダーを生成するクラス"
   ],
   "metadata": {
    "collapsed": false,
    "pycharm": {
     "name": "#%% md\n"
    }
   }
  },
  {
   "cell_type": "code",
   "execution_count": 4,
   "outputs": [],
   "source": [
    "import torch.nn as nn\n",
    "\n",
    "class Autoencoder(nn.Module):\n",
    "    def __init__(self, device='cpu'):\n",
    "        super().__init__()\n",
    "        self.device=device\n",
    "        self.l1 = nn.Linear(784, 200)#エンコーダー（200ユニット）\n",
    "        self.l2 = nn.Linear(200,784)#エンコーダー（784ユニット）\n",
    "\n",
    "    def forward(self, x):\n",
    "        h = self.l1(x)          #エンコーダーに入力\n",
    "        h = torch.relu(h)       #ReLU関数を適用\n",
    "\n",
    "        h = self.l2(h)          #デコーダーに入力\n",
    "        y = torch.sigmoid(h)    #シグモイド関数を適用\n",
    "\n",
    "        return y"
   ],
   "metadata": {
    "collapsed": false,
    "pycharm": {
     "name": "#%%\n"
    }
   }
  },
  {
   "cell_type": "markdown",
   "source": [
    "### オートエンコーダーの生成"
   ],
   "metadata": {
    "collapsed": false,
    "pycharm": {
     "name": "#%% md\n"
    }
   }
  },
  {
   "cell_type": "code",
   "execution_count": 5,
   "outputs": [],
   "source": [
    "import torch.optim as optimizers\n",
    "\n",
    "#オートエンコーダーを生成\n",
    "model = Autoencoder(device=device).to(device)\n",
    "#損失関数はバイナリクロスエントロピー誤差\n",
    "criterion = nn.BCELoss()\n",
    "#オプティマイザー（最適化関数）をAdamに設定\n",
    "optimizer = optimizers.Adam(model.parameters())"
   ],
   "metadata": {
    "collapsed": false,
    "pycharm": {
     "name": "#%%\n"
    }
   }
  },
  {
   "cell_type": "markdown",
   "source": [
    "### 学習を行う"
   ],
   "metadata": {
    "collapsed": false,
    "pycharm": {
     "name": "#%% md\n"
    }
   }
  },
  {
   "cell_type": "code",
   "execution_count": 7,
   "outputs": [
    {
     "name": "stdout",
     "output_type": "stream",
     "text": [
      "Epoch(1) -- Loss: 0.098\n",
      "Epoch(2) -- Loss: 0.079\n",
      "Epoch(3) -- Loss: 0.073\n",
      "Epoch(4) -- Loss: 0.071\n",
      "Epoch(5) -- Loss: 0.069\n",
      "Epoch(6) -- Loss: 0.068\n",
      "Epoch(7) -- Loss: 0.067\n",
      "Epoch(8) -- Loss: 0.067\n",
      "Epoch(9) -- Loss: 0.066\n",
      "Epoch(10) -- Loss: 0.066\n"
     ]
    }
   ],
   "source": [
    "#エポック数\n",
    "epochs = 10\n",
    "\n",
    "#学習の実行\n",
    "for epoch in range(epochs):\n",
    "    train_loss = 0.\n",
    "    #ミニバッチのループ（ステップ）\n",
    "    for (x, _) in train_dataloader:\n",
    "        x = x.to(device)                    #デバイスの割り当て\n",
    "        model.train()                       #訓練モードにする\n",
    "        preds = model(x)                    #モデルの出力を取得\n",
    "        loss = criterion(preds, x)          #入力xと復元predsの誤差を取得\n",
    "        optimizer.zero_grad()               #勾配を0で初期化\n",
    "        loss.backward()                     #誤差の勾配を計算\n",
    "        optimizer.step()                    #パラメーターの更新\n",
    "\n",
    "        train_loss += loss.item()           #誤差（損失）の更新\n",
    "    #1エポックあたりの損失を求める\n",
    "    train_loss /= len(train_dataloader)\n",
    "    #1エポックごとに損失を出力\n",
    "    print('Epoch({}) -- Loss: {:.3f}'.format(\n",
    "        epoch+1,\n",
    "        train_loss\n",
    "    ))"
   ],
   "metadata": {
    "collapsed": false,
    "pycharm": {
     "name": "#%%\n"
    }
   }
  },
  {
   "cell_type": "markdown",
   "source": [
    "### 復元された画像を表示してみる"
   ],
   "metadata": {
    "collapsed": false,
    "pycharm": {
     "name": "#%% md\n"
    }
   }
  },
  {
   "cell_type": "code",
   "execution_count": 9,
   "outputs": [
    {
     "data": {
      "text/plain": "<Figure size 432x288 with 2 Axes>",
      "image/png": "[encoded data removed]"
     },
     "metadata": {
      "needs_background": "light"
     },
     "output_type": "display_data"
    }
   ],
   "source": [
    "import  matplotlib.pyplot as plt\n",
    "%matplotlib inline\n",
    "\n",
    "#テストデータを1個取り出す\n",
    "x, _ = next(iter(test_dataloader))\n",
    "x = x.to(device)\n",
    "\n",
    "#ネットワークを評価モードにする\n",
    "model.eval()\n",
    "#テストデータを入力して結果を取得する\n",
    "x_rec = model(x)\n",
    "\n",
    "#入力画像、復元画像を表示\n",
    "for i, image in enumerate([x, x_rec]):\n",
    "    image = image.view(28, 28).detach().cpu().numpy()\n",
    "    plt.subplot(1, 2, i+1)\n",
    "    plt.imshow(image, cmap='binary_r')\n",
    "    plt.axis('off')\n",
    "plt.show()"
   ],
   "metadata": {
    "collapsed": false,
    "pycharm": {
     "name": "#%%\n"
    }
   }
  },
  {
   "cell_type": "code",
   "execution_count": null,
   "outputs": [],
   "source": [],
   "metadata": {
    "collapsed": false,
    "pycharm": {
     "name": "#%%\n"
    }
   }
  }
 ],
 "metadata": {
  "kernelspec": {
   "display_name": "Python 3",
   "language": "python",
   "name": "python3"
  },
  "language_info": {
   "codemirror_mode": {
    "name": "ipython",
    "version": 2
   },
   "file_extension": ".py",
   "mimetype": "text/x-python",
   "name": "python",
   "nbconvert_exporter": "python",
   "pygments_lexer": "ipython2",
   "version": "2.7.6"
  }
 },
 "nbformat": 4,
 "nbformat_minor": 0
}